{
 "cells": [
  {
   "attachments": {},
   "cell_type": "markdown",
   "metadata": {},
   "source": [
    "# Test: Util Module Functions"
   ]
  },
  {
   "attachments": {},
   "cell_type": "markdown",
   "metadata": {},
   "source": [
    "## About\n",
    "- Interactive tests of util module functions\n",
    "- **Created**: 2023/01/10\n",
    "- **Last update**: 2023/01/11"
   ]
  },
  {
   "attachments": {},
   "cell_type": "markdown",
   "metadata": {},
   "source": [
    "### Globals"
   ]
  },
  {
   "cell_type": "code",
   "execution_count": 45,
   "metadata": {},
   "outputs": [],
   "source": [
    "# path to local util code module\n",
    "g_util_module_path = '../util'\n",
    "# test mets file\n",
    "g_test_mets_file = '../data/trade_statistics/trade_statistics.xml'\n",
    "# test iiif json manifest file\n",
    "g_test_iiif_json_file = '../data/trade_statistics/trade_statistics_iiif_manifest.json'\n",
    "# osf project id\n",
    "g_test_osf_project_id = ''\n",
    "# osf usernames\n",
    "g_test_osf_username = ''\n",
    "# osf password\n",
    "g_test_osf_password = ''\n",
    "# osf api token\n",
    "g_test_osf_api_token = ''"
   ]
  },
  {
   "attachments": {},
   "cell_type": "markdown",
   "metadata": {},
   "source": [
    "Add local path to Jupyter system path"
   ]
  },
  {
   "cell_type": "code",
   "execution_count": 46,
   "metadata": {},
   "outputs": [],
   "source": [
    "import sys\n",
    "if g_util_module_path not in sys.path:\n",
    "    sys.path.append(g_util_module_path)"
   ]
  },
  {
   "attachments": {},
   "cell_type": "markdown",
   "metadata": {},
   "source": [
    "### Modules\n"
   ]
  },
  {
   "cell_type": "code",
   "execution_count": 47,
   "metadata": {},
   "outputs": [],
   "source": [
    "import pandas as pd\n",
    "import pprint\n",
    "import util # local module"
   ]
  },
  {
   "attachments": {},
   "cell_type": "markdown",
   "metadata": {},
   "source": [
    "### Test `util.mets_to_dataframe`"
   ]
  },
  {
   "cell_type": "code",
   "execution_count": null,
   "metadata": {},
   "outputs": [],
   "source": [
    "# print function documentation\n",
    "print('{}'.format(util.mets_to_dataframe.__doc__))\n",
    "\n",
    "# load the mets file\n",
    "mets_df = util.mets_to_dataframe(g_test_mets_file)\n",
    "\n",
    "display(mets_df)"
   ]
  },
  {
   "attachments": {},
   "cell_type": "markdown",
   "metadata": {},
   "source": [
    "### Test `util.iiif_to_dataframe`"
   ]
  },
  {
   "cell_type": "code",
   "execution_count": null,
   "metadata": {},
   "outputs": [],
   "source": [
    "# print function documentation\n",
    "print('{}'.format(util.iiif_to_dataframe.__doc__))\n",
    "\n",
    "# load the iiif manifest file\n",
    "iiif_df = util.iiif_to_dataframe(g_test_iiif_json_file)\n",
    "\n",
    "display(iiif_df)"
   ]
  },
  {
   "attachments": {},
   "cell_type": "markdown",
   "metadata": {},
   "source": [
    "### Test `util.map_csv_to_image`"
   ]
  },
  {
   "cell_type": "code",
   "execution_count": null,
   "metadata": {},
   "outputs": [],
   "source": [
    "# print function documentation\n",
    "#print('{}'.format(util.map_csv_to_image.__doc__))\n",
    "\n",
    "csv_df = mets_df.loc[mets_df['filename'].str.contains('.csv',case=False)]\n",
    "jpg_df = mets_df.loc[mets_df['filename'].str.contains('.jpg',case=False)]\n",
    "\n",
    "csv_list = list(csv_df['filename'])\n",
    "image_list = list(jpg_df['filename'])\n",
    "\n",
    "mappings = util.map_csv_to_image(image_list, csv_list)\n",
    "\n",
    "pprint.pprint(mappings)"
   ]
  },
  {
   "attachments": {},
   "cell_type": "markdown",
   "metadata": {},
   "source": [
    "### Test `util.osf_get_project_files`\n",
    "Note: This function should be refactored to handle multiple file folders within a single OSF project"
   ]
  },
  {
   "cell_type": "code",
   "execution_count": null,
   "metadata": {},
   "outputs": [],
   "source": [
    "# print function documentation\n",
    "print('{}'.format(util.osf_get_project_files.__doc__))\n",
    "\n",
    "# load the mets file\n",
    "\"\"\"\n",
    "osf_df = util.osf_get_project_files(g_test_osf_project_id,\n",
    "                                    g_test_osf_username, \n",
    "                                    g_test_osf_password, \n",
    "                                    g_test_osf_token)\n",
    "\"\"\"\n",
    "\n",
    "#display(osf_df)"
   ]
  },
  {
   "attachments": {},
   "cell_type": "markdown",
   "metadata": {},
   "source": [
    "**End document.**"
   ]
  }
 ],
 "metadata": {
  "kernelspec": {
   "display_name": "base",
   "language": "python",
   "name": "python3"
  },
  "language_info": {
   "codemirror_mode": {
    "name": "ipython",
    "version": 3
   },
   "file_extension": ".py",
   "mimetype": "text/x-python",
   "name": "python",
   "nbconvert_exporter": "python",
   "pygments_lexer": "ipython3",
   "version": "3.8.5 (default, Sep  4 2020, 02:22:02) \n[Clang 10.0.0 ]"
  },
  "vscode": {
   "interpreter": {
    "hash": "e80866da39f614c41262712a96c603cec09e65c25ffba1b64ff6a9fa5a13fe2c"
   }
  }
 },
 "nbformat": 4,
 "nbformat_minor": 4
}
