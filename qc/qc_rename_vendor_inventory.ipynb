{
 "cells": [
  {
   "attachments": {},
   "cell_type": "markdown",
   "metadata": {},
   "source": [
    "# QC: Rename Trade Statistics Vendor Inventory\n"
   ]
  },
  {
   "attachments": {},
   "cell_type": "markdown",
   "metadata": {},
   "source": [
    "## About\n",
    "- Interactive workflow for renaming files in a vendor inventory that uses DRS ids to filenames that reflect the original digital object's owner-supplied name.\n",
    "- **Created:** 2023/02/03\n",
    "- **Updated:** 2023/02/03"
   ]
  },
  {
   "attachments": {},
   "cell_type": "markdown",
   "metadata": {},
   "source": [
    "### Globals"
   ]
  },
  {
   "cell_type": "code",
   "execution_count": null,
   "metadata": {},
   "outputs": [],
   "source": [
    "# path to local util code module\n",
    "g_util_module_path = '../util'\n",
    "\n",
    "# mets file\n",
    "g_mets_file = '../data/trade_statistics/trade_statistics.xml'\n",
    "\n",
    "# digital object osn inventory file\n",
    "g_do_osn_inventory = '../data/trade_statistics/005825557.csv'\n",
    "\n",
    "# data directory for vendor files to rename\n",
    "g_data_directory = ''"
   ]
  },
  {
   "attachments": {},
   "cell_type": "markdown",
   "metadata": {},
   "source": [
    "Add local path to Jupyter system path"
   ]
  },
  {
   "cell_type": "code",
   "execution_count": null,
   "metadata": {},
   "outputs": [],
   "source": [
    "import sys\n",
    "if g_util_module_path not in sys.path:\n",
    "    sys.path.append(g_util_module_path)"
   ]
  },
  {
   "attachments": {},
   "cell_type": "markdown",
   "metadata": {},
   "source": [
    "### Modules"
   ]
  },
  {
   "cell_type": "code",
   "execution_count": null,
   "metadata": {},
   "outputs": [],
   "source": [
    "import pandas as pd\n",
    "import pprint\n",
    "import util # local module"
   ]
  },
  {
   "attachments": {},
   "cell_type": "markdown",
   "metadata": {},
   "source": [
    "## Rename Vendor Files"
   ]
  },
  {
   "attachments": {},
   "cell_type": "markdown",
   "metadata": {},
   "source": [
    "### Download and Process METS File (`XML` format)"
   ]
  },
  {
   "cell_type": "code",
   "execution_count": null,
   "metadata": {},
   "outputs": [],
   "source": [
    "# print function documentation\n",
    "print('{}'.format(util.mets_to_dataframe.__doc__))\n",
    "\n",
    "# load the mets file\n",
    "mets_df = util.mets_to_dataframe(g_mets_file)\n",
    "\n",
    "# print number of files\n",
    "print('Num files: {}'.format(len(mets_df)))\n",
    "\n",
    "# display result\n",
    "display(mets_df)"
   ]
  },
  {
   "attachments": {},
   "cell_type": "markdown",
   "metadata": {},
   "source": [
    "### Create the vendor inventory\n",
    "- Based upon METS file output. Assumes that vendor filenames are based upon DRS id."
   ]
  },
  {
   "cell_type": "code",
   "execution_count": null,
   "metadata": {},
   "outputs": [],
   "source": [
    "# print function documentation\n",
    "print('{}'.format(util.create_vendor_inventory.__doc__))\n",
    "\n",
    "# create the vendor inventory based upon the mets dataframe\n",
    "vendor_inventory_df = util.create_vendor_inventory(mets_df, drsids=True, path=g_data_directory)\n",
    "\n",
    "# print the number of files in the inventory\n",
    "print('Num files: {}'.format(len(vendor_inventory_df)))\n",
    "\n",
    "# display inventory\n",
    "display(vendor_inventory_df)"
   ]
  },
  {
   "attachments": {},
   "cell_type": "markdown",
   "metadata": {},
   "source": [
    "### Load vendor DRS ids inventory and digital object OSN inventory"
   ]
  },
  {
   "cell_type": "code",
   "execution_count": null,
   "metadata": {},
   "outputs": [],
   "source": [
    "# read the digital object osn inventory file\n",
    "do_osn_inventory_df = pd.read_csv(g_do_osn_inventory, header=0)"
   ]
  },
  {
   "attachments": {},
   "cell_type": "markdown",
   "metadata": {},
   "source": [
    "#### Create mapping of vendor inventory files to owner-supplied names files"
   ]
  },
  {
   "cell_type": "code",
   "execution_count": null,
   "metadata": {},
   "outputs": [],
   "source": [
    "# print function documentation\n",
    "print('{}'.format(util.map_drs_vendor_inventory.__doc__))\n",
    "\n",
    "# map the drs vendor inventory\n",
    "df = util.map_drs_vendor_inventory(vendor_inventory_df, do_osn_inventory_df)\n",
    "\n",
    "display(df)"
   ]
  },
  {
   "attachments": {},
   "cell_type": "markdown",
   "metadata": {},
   "source": [
    "#### Rename vendor files"
   ]
  },
  {
   "cell_type": "code",
   "execution_count": null,
   "metadata": {},
   "outputs": [],
   "source": [
    "# print function documentation\n",
    "print('{}'.format(util.rename_vendor_files.__doc__))\n",
    "\n",
    "status = util.rename_vendor_files(df)\n",
    "print (status)"
   ]
  },
  {
   "attachments": {},
   "cell_type": "markdown",
   "metadata": {},
   "source": [
    "**End document.**"
   ]
  }
 ],
 "metadata": {
  "kernelspec": {
   "display_name": "base",
   "language": "python",
   "name": "python3"
  },
  "language_info": {
   "codemirror_mode": {
    "name": "ipython",
    "version": 3
   },
   "file_extension": ".py",
   "mimetype": "text/x-python",
   "name": "python",
   "nbconvert_exporter": "python",
   "pygments_lexer": "ipython3",
   "version": "3.8.5 (default, Sep  4 2020, 02:22:02) \n[Clang 10.0.0 ]"
  },
  "orig_nbformat": 4,
  "vscode": {
   "interpreter": {
    "hash": "e80866da39f614c41262712a96c603cec09e65c25ffba1b64ff6a9fa5a13fe2c"
   }
  }
 },
 "nbformat": 4,
 "nbformat_minor": 2
}
