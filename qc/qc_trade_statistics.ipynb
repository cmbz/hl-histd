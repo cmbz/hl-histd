{
 "cells": [
  {
   "attachments": {},
   "cell_type": "markdown",
   "metadata": {},
   "source": [
    "# QC: Trade Statistics of the Treaty Ports (1863-1872)\n"
   ]
  },
  {
   "attachments": {},
   "cell_type": "markdown",
   "metadata": {},
   "source": [
    "## About\n",
    "- Interactive QC workflow for the volume: `Trade statistics of the treaty ports, for the period 1863-1872`\n",
    "    - **HOLLIS:** https://id.lib.harvard.edu/alma/990058255570203941/catalog\n",
    "    - **DRS:** https://iiif.lib.harvard.edu/manifests/view/drs:44319007$1i\n",
    "- **Created:** 2023/01/25\n",
    "- **Updated:** 2023/01/26"
   ]
  },
  {
   "attachments": {},
   "cell_type": "markdown",
   "metadata": {},
   "source": [
    "## Globals"
   ]
  },
  {
   "cell_type": "code",
   "execution_count": null,
   "metadata": {},
   "outputs": [],
   "source": [
    "# path to local util code module\n",
    "g_util_module_path = '../util'\n",
    "\n",
    "# valid mets files\n",
    "mets = {\n",
    "    'trade_statistics':'../data/trade_statistics/trade_statistics.xml',\n",
    "}\n",
    "\n",
    "# valid iiif json manifest files \n",
    "iiif_json = {\n",
    "    'trade_statistics':'../data/trade_statistics/trade_statistics_iiif_manifest.json',\n",
    "}\n",
    "\n",
    "# valid output directories\n",
    "outputs = {\n",
    "    'trade_statistics':'./outputs/trade_statistics',\n",
    "}\n",
    "\n",
    "g_qc_mets_file = mets.get('trade_statistics')\n",
    "# test iiif json manifest file\n",
    "g_qc_iiif_json_file = iiif_json.get('trade_statistics')\n",
    "# data file directory\n",
    "g_qc_data_directory = ''\n",
    "# output directory\n",
    "g_qc_output_dir = outputs.get('trade_statistics')\n",
    "# qc output filenames\n",
    "g_qc_outputs = {\n",
    "    'digital_object_inventory': g_qc_output_dir  + '/do_inventory.csv',\n",
    "    'vendor_inventory': g_qc_output_dir  + '/vendor_inventory.csv',\n",
    "    'digital_object_inventory': g_qc_output_dir  + '/do_inventory.csv',\n",
    "    'csv_inventory_report': g_qc_output_dir + '/csv_inventory_report.csv',\n",
    "    'txt_inventory_report': g_qc_output_dir + '/txt_inventory_report.csv',\n",
    "    'missing_drs_ids_report': g_qc_output_dir + '/missing_drs_ids.csv',\n",
    "    'csv_drs_ids_report': g_qc_output_dir + '/csv_drs_ids_report.csv',\n",
    "    'txt_drs_ids_report': g_qc_output_dir + '/txt_drs_ids_report.csv',\n",
    "    'full_drs_ids_report': g_qc_output_dir + '/full_drs_ids_report.csv'\n",
    "}"
   ]
  },
  {
   "attachments": {},
   "cell_type": "markdown",
   "metadata": {},
   "source": [
    "Add local path to Jupyter system path"
   ]
  },
  {
   "cell_type": "code",
   "execution_count": null,
   "metadata": {},
   "outputs": [],
   "source": [
    "import sys\n",
    "if g_util_module_path not in sys.path:\n",
    "    sys.path.append(g_util_module_path)"
   ]
  },
  {
   "attachments": {},
   "cell_type": "markdown",
   "metadata": {},
   "source": [
    "## Modules"
   ]
  },
  {
   "cell_type": "code",
   "execution_count": null,
   "metadata": {},
   "outputs": [],
   "source": [
    "import pandas as pd\n",
    "import pprint\n",
    "import util # local module"
   ]
  },
  {
   "attachments": {},
   "cell_type": "markdown",
   "metadata": {},
   "source": [
    "## Metadata Analysis"
   ]
  },
  {
   "attachments": {},
   "cell_type": "markdown",
   "metadata": {},
   "source": [
    "### 1. Download and Process IIIF Manifest (`JSON` format)"
   ]
  },
  {
   "cell_type": "code",
   "execution_count": null,
   "metadata": {},
   "outputs": [],
   "source": [
    "# print function documentation\n",
    "print('{}'.format(util.iiif_to_dataframe.__doc__))\n",
    "\n",
    "# load the iiif manifest file\n",
    "iiif_df = util.iiif_to_dataframe(g_qc_iiif_json_file)\n",
    "\n",
    "# print number of files\n",
    "print('Num files: {}'.format(len(iiif_df)))\n",
    "\n",
    "# display result\n",
    "display(iiif_df)"
   ]
  },
  {
   "attachments": {},
   "cell_type": "markdown",
   "metadata": {},
   "source": [
    "### 2. Download and Process METS File (`XML` format)"
   ]
  },
  {
   "cell_type": "code",
   "execution_count": null,
   "metadata": {},
   "outputs": [],
   "source": [
    "# print function documentation\n",
    "print('{}'.format(util.mets_to_dataframe.__doc__))\n",
    "\n",
    "# load the mets file\n",
    "mets_df = util.mets_to_dataframe(g_qc_mets_file)\n",
    "\n",
    "# print number of files\n",
    "print('Num files: {}'.format(len(mets_df)))\n",
    "\n",
    "# display result\n",
    "display(mets_df)"
   ]
  },
  {
   "attachments": {},
   "cell_type": "markdown",
   "metadata": {},
   "source": [
    "### 3. Create Digital Object and Vendor File Inventories"
   ]
  },
  {
   "attachments": {},
   "cell_type": "markdown",
   "metadata": {},
   "source": [
    "#### Create digital object inventory\n",
    "- Based upon IIIF manifest"
   ]
  },
  {
   "cell_type": "code",
   "execution_count": null,
   "metadata": {},
   "outputs": [],
   "source": [
    "# print function documentation\n",
    "print('{}'.format(util.create_digital_object_inventory.__doc__))\n",
    "\n",
    "# create the digital object inventory based uopn the iiif_df\n",
    "do_inventory_df = util.create_digital_object_inventory(iiif_df,itype='iiif')\n",
    "\n",
    "# print the number of inventory files\n",
    "print('Num files: {}'.format(len(do_inventory_df)))\n",
    "\n",
    "# write inventory to file\n",
    "filename = g_qc_outputs['digital_object_inventory']\n",
    "do_inventory_df.to_csv(filename,index=False)\n",
    "\n",
    "# display inventory\n",
    "display(do_inventory_df)"
   ]
  },
  {
   "attachments": {},
   "cell_type": "markdown",
   "metadata": {},
   "source": [
    "#### Create vendor inventory\n",
    "- Based upon METS file output. Assumes that vendor filenames are based upon DRS id."
   ]
  },
  {
   "cell_type": "code",
   "execution_count": null,
   "metadata": {},
   "outputs": [],
   "source": [
    "# print function documentation\n",
    "print('{}'.format(util.create_vendor_inventory.__doc__))\n",
    "\n",
    "# create the vendor inventory based upon the mets dataframe\n",
    "vendor_inventory_df = util.create_vendor_inventory(mets_df, drsids=True, path=g_qc_data_directory)\n",
    "\n",
    "# print the number of files in the inventory\n",
    "print('Num files: {}'.format(len(vendor_inventory_df)))\n",
    "\n",
    "# write inventory to file\n",
    "filename = g_qc_outputs['vendor_inventory']\n",
    "vendor_inventory_df.to_csv(filename,index=False)\n",
    "\n",
    "# display inventory\n",
    "display(vendor_inventory_df)"
   ]
  },
  {
   "attachments": {},
   "cell_type": "markdown",
   "metadata": {},
   "source": [
    "### Create Transcription Inventories"
   ]
  },
  {
   "attachments": {},
   "cell_type": "markdown",
   "metadata": {},
   "source": [
    "#### Create `csv` transcription inventory"
   ]
  },
  {
   "cell_type": "code",
   "execution_count": null,
   "metadata": {},
   "outputs": [],
   "source": [
    "# print function documentation\n",
    "print('{}'.format(util.extract_transcription_inventory.__doc__))\n",
    "\n",
    "# extract csv transcription files\n",
    "csv_inventory_df = util.extract_transcription_inventory(vendor_inventory_df, ttype='csv', path=False)\n",
    "\n",
    "# write inventory to file\n",
    "filename = g_qc_outputs['csv_inventory_report']\n",
    "csv_inventory_df.to_csv(filename,index=False)\n",
    "\n",
    "# diplay the results\n",
    "display(csv_inventory_df)"
   ]
  },
  {
   "attachments": {},
   "cell_type": "markdown",
   "metadata": {},
   "source": [
    "Generate `csv` transcription inventory report"
   ]
  },
  {
   "cell_type": "code",
   "execution_count": null,
   "metadata": {},
   "outputs": [],
   "source": [
    "# print function documentation\n",
    "print('{}'.format(util.generate_transcription_report.__doc__))\n",
    "\n",
    "# create the csv transcription report\n",
    "csv_inventory_report_df = util.generate_transcription_report(csv_inventory_df)\n",
    "\n",
    "# display the results\n",
    "display(csv_inventory_report_df)"
   ]
  },
  {
   "attachments": {},
   "cell_type": "markdown",
   "metadata": {},
   "source": [
    "#### Create `txt` transcription inventory"
   ]
  },
  {
   "cell_type": "code",
   "execution_count": null,
   "metadata": {},
   "outputs": [],
   "source": [
    "# print function documentation\n",
    "print('{}'.format(util.extract_transcription_inventory.__doc__))\n",
    "\n",
    "# extract the txt files from the vendor inventory\n",
    "txt_inventory_df = util.extract_transcription_inventory(vendor_inventory_df, ttype='txt', path=False)\n",
    "\n",
    "# write inventory to file\n",
    "filename = g_qc_outputs['txt_inventory_report']\n",
    "txt_inventory_df.to_csv(filename,index=False)\n",
    "\n",
    "# display the results\n",
    "display(txt_inventory_df)"
   ]
  },
  {
   "attachments": {},
   "cell_type": "markdown",
   "metadata": {},
   "source": [
    "Generate `txt` transcription inventory report"
   ]
  },
  {
   "cell_type": "code",
   "execution_count": null,
   "metadata": {},
   "outputs": [],
   "source": [
    "# print function documentation\n",
    "print('{}'.format(util.generate_transcription_report.__doc__))\n",
    "\n",
    "# generate the txt transcription report\n",
    "txt_inventory_report_df = util.generate_transcription_report(txt_inventory_df)\n",
    "\n",
    "# display the results\n",
    "display(txt_inventory_report_df)"
   ]
  },
  {
   "attachments": {},
   "cell_type": "markdown",
   "metadata": {},
   "source": [
    "### Compare Digital Object Files to Vendor Files"
   ]
  },
  {
   "attachments": {},
   "cell_type": "markdown",
   "metadata": {},
   "source": [
    "#### Check for missing DRS ids"
   ]
  },
  {
   "cell_type": "code",
   "execution_count": null,
   "metadata": {},
   "outputs": [],
   "source": [
    "# print function documentation\n",
    "print('{}'.format(util.find_missing_reference_ids.__doc__))\n",
    "\n",
    "# get digital object drs ids\n",
    "do_drs_ids = do_inventory_df['drs_id']\n",
    "\n",
    "# get vendor drs ids\n",
    "vendor_drs_ids = vendor_inventory_df['drs_id']\n",
    "\n",
    "# get dataframe of drs ids in digital object that are missing from vendor inventory\n",
    "missing_drs_ids_df = util.find_missing_reference_ids(do_drs_ids, vendor_drs_ids)\n",
    "\n",
    "# report number of missing drs ids\n",
    "print('Num missing DRS ids: {}'.format(len(missing_drs_ids_df)))\n",
    "\n",
    "# display the missing drs ids, if any\n",
    "display(missing_drs_ids_df)\n",
    "if (len(missing_drs_ids_df) > 0):\n",
    "    filename = g_qc_outputs['missing_drs_ids_report']\n",
    "    missing_drs_ids_df.to_csv(filename,index=False)"
   ]
  },
  {
   "attachments": {},
   "cell_type": "markdown",
   "metadata": {},
   "source": [
    "#### Look for DRS ids missing from transcription inventories\n",
    "- Note: In some cases, the missing transcriptions may be valid. For instance, a blank page will not have a `.csv` or `.txt` transcription associated with it."
   ]
  },
  {
   "attachments": {},
   "cell_type": "markdown",
   "metadata": {},
   "source": [
    "Find missing DRS ids in `csv` transcription report"
   ]
  },
  {
   "cell_type": "code",
   "execution_count": null,
   "metadata": {},
   "outputs": [],
   "source": [
    "# get missing transcription drs ids\n",
    "csv_missing_drs_ids_df = util.find_missing_transcription_reference_ids(do_inventory_df, csv_inventory_report_df, reftype='drs')\n",
    "\n",
    "# write results to file\n",
    "filename = g_qc_outputs['csv_drs_ids_report']\n",
    "csv_missing_drs_ids_df.to_csv(filename,index=False)\n",
    "\n",
    "# display results\n",
    "display(csv_missing_drs_ids_df)"
   ]
  },
  {
   "attachments": {},
   "cell_type": "markdown",
   "metadata": {},
   "source": [
    "Find missing DRS ids in `txt` transcription report"
   ]
  },
  {
   "cell_type": "code",
   "execution_count": null,
   "metadata": {},
   "outputs": [],
   "source": [
    "# get missing transcription drs ids\n",
    "txt_missing_drs_ids_df = util.find_missing_transcription_reference_ids(do_inventory_df, txt_inventory_report_df, reftype='drs')\n",
    "\n",
    "# write results to file\n",
    "filename = g_qc_outputs['txt_drs_ids_report']\n",
    "txt_missing_drs_ids_df.to_csv(filename,index=False)\n",
    "\n",
    "# display results\n",
    "display(txt_missing_drs_ids_df)"
   ]
  },
  {
   "attachments": {},
   "cell_type": "markdown",
   "metadata": {},
   "source": [
    "#### Generate a transcription report for combined `csv` and `txt` transcriptions\n",
    "- TO DO: Define special-purpose function in `util.py` if needed."
   ]
  },
  {
   "cell_type": "code",
   "execution_count": null,
   "metadata": {},
   "outputs": [],
   "source": [
    "# local function: get the number of small files (<7bytes) in a directory\n",
    "def get_small_files(path):\n",
    "    info = util.get_file_info(path)\n",
    "    small_files = []\n",
    "    for key in info.keys():\n",
    "        size = info[key].get('size')\n",
    "        if (size < 10):\n",
    "            small_files.append(key)\n",
    "    return small_files\n",
    "    \n",
    "# local function: test for presence/absence of transcription based upon count\n",
    "def has_transcription(csv_count, txt_count):\n",
    "        if (csv_count + txt_count > 0):\n",
    "                return True\n",
    "        else: \n",
    "                return False\n",
    "\n",
    "# merge the csv and txt transcription reports\n",
    "df = txt_missing_drs_ids_df.merge(csv_missing_drs_ids_df,on='drs_id',how='outer',suffixes=['_txt','_csv'])\n",
    "\n",
    "# rename a column in place\n",
    "df.rename(columns = {'url_txt':'url'}, inplace = True)\n",
    "\n",
    "# drop some duplicated and/or unneeded columns\n",
    "df.drop(['url_csv','mimetype_txt','mimetype_csv','file_type_txt','file_type_csv'],axis=1, inplace=True)\n",
    "\n",
    "# reorder remaining columns for readability\n",
    "df = df.loc[:,['drs_id','url', 'filename_csv','filename_txt','count_csv','count_txt']]\n",
    "\n",
    "# add a bool small_txt column\n",
    "df['has_small_txt'] = False\n",
    "\n",
    "# get the list of small txt files\n",
    "path = 'TODO:REPLACE WITH LOCAL PATH TO TXT FILES'\n",
    "small_txt_files = get_small_files(path)\n",
    "\n",
    "# remove small text files from the count\n",
    "for row in df.iterrows():\n",
    "        index = row[0]\n",
    "        filename_txt = row[1].get('filename_txt')\n",
    "        txts = filename_txt.split(';')\n",
    "        count_txt = row[1].get('count_txt')\n",
    "        small_txt = row[1].get('has_small_txt')\n",
    "        # update fields based upon presence of small txt files\n",
    "        if (len(txts) > 1):\n",
    "                for txt in txts:\n",
    "                        if (txt in small_txt_files):\n",
    "                                df.at[index,'has_small_txt'] = True\n",
    "                                df.at[index, 'count_txt'] = count_txt - 1                            \n",
    "        else:\n",
    "                if (filename_txt in small_txt_files):\n",
    "                        df.at[index,'has_small_txt'] = True\n",
    "                        df.at[index, 'count_txt'] = count_txt - 1\n",
    "\n",
    "# derive a new has_transcription column\n",
    "df['has_transcription'] = df.apply(lambda row: has_transcription(row['count_csv'], row['count_txt']), axis=1)\n",
    "\n",
    "# write the results to a file\n",
    "filename = g_qc_outputs['full_drs_ids_report']\n",
    "df.to_csv(filename,index=False)\n",
    "\n",
    "display(df)\n"
   ]
  },
  {
   "attachments": {},
   "cell_type": "markdown",
   "metadata": {},
   "source": [
    "**End document.**"
   ]
  }
 ],
 "metadata": {
  "kernelspec": {
   "display_name": "base",
   "language": "python",
   "name": "python3"
  },
  "language_info": {
   "codemirror_mode": {
    "name": "ipython",
    "version": 3
   },
   "file_extension": ".py",
   "mimetype": "text/x-python",
   "name": "python",
   "nbconvert_exporter": "python",
   "pygments_lexer": "ipython3",
   "version": "3.8.5"
  },
  "orig_nbformat": 4,
  "vscode": {
   "interpreter": {
    "hash": "e80866da39f614c41262712a96c603cec09e65c25ffba1b64ff6a9fa5a13fe2c"
   }
  }
 },
 "nbformat": 4,
 "nbformat_minor": 2
}
