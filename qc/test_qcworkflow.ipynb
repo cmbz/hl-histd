{
 "cells": [
  {
   "cell_type": "markdown",
   "metadata": {},
   "source": [
    "# Test: QC Workflow Functions"
   ]
  },
  {
   "attachments": {},
   "cell_type": "markdown",
   "metadata": {},
   "source": [
    "## About\n",
    "- Interactive tests of QC workflow\n",
    "- **Created:** 2023/01/11\n",
    "- **Updated:** 2023/01/14"
   ]
  },
  {
   "attachments": {},
   "cell_type": "markdown",
   "metadata": {},
   "source": [
    "## Globals"
   ]
  },
  {
   "cell_type": "code",
   "execution_count": null,
   "metadata": {},
   "outputs": [],
   "source": [
    "# path to local util code module\n",
    "g_util_module_path = '../util'\n",
    "# test mets file\n",
    "g_qc_mets_file = '../data/trade_statistics/trade_statistics.xml'\n",
    "# test iiif json manifest file\n",
    "g_qc_iiif_json_file = '../data/trade_statistics/trade_statistics_iiif_manifest.json'\n",
    "# data file directory\n",
    "g_qc_data_directory = ''\n",
    "# digital object title\n",
    "g_qc_digital_object_title = 'trade_statistics'\n"
   ]
  },
  {
   "attachments": {},
   "cell_type": "markdown",
   "metadata": {},
   "source": [
    "Add local path to Jupyter system path"
   ]
  },
  {
   "cell_type": "code",
   "execution_count": null,
   "metadata": {},
   "outputs": [],
   "source": [
    "import sys\n",
    "if g_util_module_path not in sys.path:\n",
    "    sys.path.append(g_util_module_path)"
   ]
  },
  {
   "attachments": {},
   "cell_type": "markdown",
   "metadata": {},
   "source": [
    "## Modules"
   ]
  },
  {
   "cell_type": "code",
   "execution_count": null,
   "metadata": {},
   "outputs": [],
   "source": [
    "import pandas as pd\n",
    "import pprint\n",
    "import util # local module"
   ]
  },
  {
   "attachments": {},
   "cell_type": "markdown",
   "metadata": {},
   "source": [
    "## Metadata Analysis"
   ]
  },
  {
   "attachments": {},
   "cell_type": "markdown",
   "metadata": {},
   "source": [
    "### Download and Process IIIF Manifest (`JSON` format)"
   ]
  },
  {
   "cell_type": "code",
   "execution_count": null,
   "metadata": {},
   "outputs": [],
   "source": [
    "# print function documentation\n",
    "print('{}'.format(util.iiif_to_dataframe.__doc__))\n",
    "\n",
    "# load the iiif manifest file\n",
    "iiif_df = util.iiif_to_dataframe(g_qc_iiif_json_file)\n",
    "print('Num files: {}'.format(len(iiif_df)))\n",
    "display(iiif_df)"
   ]
  },
  {
   "attachments": {},
   "cell_type": "markdown",
   "metadata": {},
   "source": [
    "### Download and Process METS File (`XML` format)"
   ]
  },
  {
   "cell_type": "code",
   "execution_count": null,
   "metadata": {},
   "outputs": [],
   "source": [
    "# print function documentation\n",
    "print('{}'.format(util.mets_to_dataframe.__doc__))\n",
    "\n",
    "# load the mets file\n",
    "mets_df = util.mets_to_dataframe(g_qc_mets_file)\n",
    "print('Num files: {}'.format(len(mets_df)))\n",
    "display(mets_df)"
   ]
  },
  {
   "attachments": {},
   "cell_type": "markdown",
   "metadata": {},
   "source": [
    "### Create Digital Object and Vendor File Inventories"
   ]
  },
  {
   "attachments": {},
   "cell_type": "markdown",
   "metadata": {},
   "source": [
    "#### Create digital object inventory\n",
    "- Based upon IIIF manifest"
   ]
  },
  {
   "cell_type": "code",
   "execution_count": null,
   "metadata": {},
   "outputs": [],
   "source": [
    "# print function documentation\n",
    "print('{}'.format(util.create_digital_object_inventory.__doc__))\n",
    "\n",
    "# create the digital object inventory based uopn the iiif_df\n",
    "do_inventory_df = util.create_digital_object_inventory(iiif_df)\n",
    "print('Num files: {}'.format(len(do_inventory_df)))\n",
    "display(do_inventory_df)"
   ]
  },
  {
   "attachments": {},
   "cell_type": "markdown",
   "metadata": {},
   "source": [
    "#### Create vendor inventory\n",
    "- Based upon METS file output. Assumes that vendor filenames are based upon DRS id."
   ]
  },
  {
   "cell_type": "code",
   "execution_count": null,
   "metadata": {},
   "outputs": [],
   "source": [
    "# print function documentation\n",
    "print('{}'.format(util.create_vendor_inventory.__doc__))\n",
    "\n",
    "vendor_inventory_df = util.create_vendor_inventory(mets_df, g_qc_data_directory)\n",
    "print('Num files: {}'.format(len(vendor_inventory_df)))\n",
    "display(vendor_inventory_df)"
   ]
  },
  {
   "attachments": {},
   "cell_type": "markdown",
   "metadata": {},
   "source": [
    "### Create Transcription Inventories"
   ]
  },
  {
   "attachments": {},
   "cell_type": "markdown",
   "metadata": {},
   "source": [
    "#### Create `csv` transcription inventory"
   ]
  },
  {
   "cell_type": "code",
   "execution_count": null,
   "metadata": {},
   "outputs": [],
   "source": [
    "# print function documentation\n",
    "print('{}'.format(util.extract_transcription_inventory.__doc__))\n",
    "\n",
    "csv_inventory_df = util.extract_transcription_inventory(vendor_inventory_df, ttype='csv', path=False)\n",
    "display(csv_inventory_df)"
   ]
  },
  {
   "attachments": {},
   "cell_type": "markdown",
   "metadata": {},
   "source": [
    "Generate `csv` transcription inventory report"
   ]
  },
  {
   "cell_type": "code",
   "execution_count": null,
   "metadata": {},
   "outputs": [],
   "source": [
    "# print function documentation\n",
    "print('{}'.format(util.generate_transcription_report.__doc__))\n",
    "display(util.generate_transcription_report(csv_inventory_df))"
   ]
  },
  {
   "attachments": {},
   "cell_type": "markdown",
   "metadata": {},
   "source": [
    "#### Create `txt` transcription inventory"
   ]
  },
  {
   "cell_type": "code",
   "execution_count": null,
   "metadata": {},
   "outputs": [],
   "source": [
    "# print function documentation\n",
    "print('{}'.format(util.extract_transcription_inventory.__doc__))\n",
    "\n",
    "txt_inventory_df = util.extract_transcription_inventory(vendor_inventory_df, ttype='txt', path=False)\n",
    "display(txt_inventory_df)"
   ]
  },
  {
   "attachments": {},
   "cell_type": "markdown",
   "metadata": {},
   "source": [
    "Generate `txt` transcription inventory report"
   ]
  },
  {
   "cell_type": "code",
   "execution_count": null,
   "metadata": {},
   "outputs": [],
   "source": [
    "\n",
    "# print function documentation\n",
    "print('{}'.format(util.generate_transcription_report.__doc__))\n",
    "display(util.generate_transcription_report(txt_inventory_df))"
   ]
  },
  {
   "attachments": {},
   "cell_type": "markdown",
   "metadata": {},
   "source": [
    "### Compare Digital Object Files to Vendor Files"
   ]
  },
  {
   "attachments": {},
   "cell_type": "markdown",
   "metadata": {},
   "source": [
    "#### Check for missing DRS ids"
   ]
  },
  {
   "cell_type": "code",
   "execution_count": null,
   "metadata": {},
   "outputs": [],
   "source": [
    "# print function documentation\n",
    "print('{}'.format(util.find_missing_drs_ids.__doc__))\n",
    "\n",
    "# get digital object drs ids\n",
    "do_drs_ids = do_inventory_df['drs_id']\n",
    "# get vendor drs ids\n",
    "vendor_drs_ids = vendor_inventory_df['drs_id']\n",
    "# get dataframe of drs ids in digital object that are missing from vendor inventory\n",
    "missing_drs_ids_df = util.find_missing_drs_ids(do_drs_ids, vendor_drs_ids)\n",
    "print('Num missing DRS ids: {}'.format(len(missing_drs_ids_df)))\n",
    "display(missing_drs_ids_df)\n",
    "if (len(missing_drs_ids_df) > 0):\n",
    "    missing_drs_ids_df.to_csv(g_qc_digital_object_title + '.csv')"
   ]
  },
  {
   "attachments": {},
   "cell_type": "markdown",
   "metadata": {},
   "source": [
    "**End document.**"
   ]
  }
 ],
 "metadata": {
  "kernelspec": {
   "display_name": "base",
   "language": "python",
   "name": "python3"
  },
  "language_info": {
   "codemirror_mode": {
    "name": "ipython",
    "version": 3
   },
   "file_extension": ".py",
   "mimetype": "text/x-python",
   "name": "python",
   "nbconvert_exporter": "python",
   "pygments_lexer": "ipython3",
   "version": "3.8.5"
  },
  "orig_nbformat": 4,
  "vscode": {
   "interpreter": {
    "hash": "e80866da39f614c41262712a96c603cec09e65c25ffba1b64ff6a9fa5a13fe2c"
   }
  }
 },
 "nbformat": 4,
 "nbformat_minor": 2
}
